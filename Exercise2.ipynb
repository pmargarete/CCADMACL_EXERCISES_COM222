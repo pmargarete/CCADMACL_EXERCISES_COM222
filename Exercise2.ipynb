{
  "nbformat": 4,
  "nbformat_minor": 0,
  "metadata": {
    "colab": {
      "provenance": [],
      "authorship_tag": "ABX9TyMgA6DEFsQ0LmELmBf4TFuh",
      "include_colab_link": true
    },
    "kernelspec": {
      "name": "python3",
      "display_name": "Python 3"
    },
    "language_info": {
      "name": "python"
    }
  },
  "cells": [
    {
      "cell_type": "markdown",
      "metadata": {
        "id": "view-in-github",
        "colab_type": "text"
      },
      "source": [
        "<a href=\"https://colab.research.google.com/github/pmargarete/CCADMACL_EXERCISES_COM222/blob/main/Exercise2.ipynb\" target=\"_parent\"><img src=\"https://colab.research.google.com/assets/colab-badge.svg\" alt=\"Open In Colab\"/></a>"
      ]
    },
    {
      "cell_type": "code",
      "execution_count": 141,
      "metadata": {
        "id": "zhdaq5PEX_S3"
      },
      "outputs": [],
      "source": [
        "import pandas as pd\n",
        "import numpy as np\n",
        "from sklearn.compose import ColumnTransformer\n",
        "from sklearn.pipeline import Pipeline\n",
        "from sklearn.ensemble import GradientBoostingRegressor\n",
        "from sklearn.preprocessing import OneHotEncoder, StandardScaler\n",
        "from sklearn.impute import SimpleImputer\n",
        "from sklearn.model_selection import train_test_split\n",
        "\n",
        "import warnings\n",
        "import matplotlib.pyplot as plt\n",
        "import seaborn as sns\n",
        "from sklearn.metrics import mean_squared_log_error\n",
        "import xgboost as xgb\n",
        "\n",
        "warnings.filterwarnings(\"ignore\")"
      ]
    },
    {
      "cell_type": "code",
      "source": [
        "!pip install --user xgboost"
      ],
      "metadata": {
        "colab": {
          "base_uri": "https://localhost:8080/"
        },
        "id": "uz3Pdrpec4TH",
        "outputId": "d2e97ac3-a7e2-4915-b15f-400c8b1559c0"
      },
      "execution_count": 142,
      "outputs": [
        {
          "output_type": "stream",
          "name": "stdout",
          "text": [
            "Requirement already satisfied: xgboost in /usr/local/lib/python3.10/dist-packages (2.1.2)\n",
            "Requirement already satisfied: numpy in /usr/local/lib/python3.10/dist-packages (from xgboost) (1.26.4)\n",
            "Requirement already satisfied: nvidia-nccl-cu12 in /usr/local/lib/python3.10/dist-packages (from xgboost) (2.23.4)\n",
            "Requirement already satisfied: scipy in /usr/local/lib/python3.10/dist-packages (from xgboost) (1.13.1)\n"
          ]
        }
      ]
    },
    {
      "cell_type": "code",
      "source": [
        "#LOAD\n",
        "train = pd.read_csv(\"train.csv\")"
      ],
      "metadata": {
        "id": "B1FKyMYRYLEL"
      },
      "execution_count": 143,
      "outputs": []
    },
    {
      "cell_type": "code",
      "source": [
        "test = pd.read_csv(\"test.csv\")"
      ],
      "metadata": {
        "id": "68XVNaPWYS3C"
      },
      "execution_count": 144,
      "outputs": []
    },
    {
      "cell_type": "code",
      "source": [
        "train.info()"
      ],
      "metadata": {
        "colab": {
          "base_uri": "https://localhost:8080/"
        },
        "id": "FjfsrqrjYVN5",
        "outputId": "84fa35da-87c2-45ca-b804-eb3caa196435"
      },
      "execution_count": 145,
      "outputs": [
        {
          "output_type": "stream",
          "name": "stdout",
          "text": [
            "<class 'pandas.core.frame.DataFrame'>\n",
            "RangeIndex: 1200000 entries, 0 to 1199999\n",
            "Data columns (total 21 columns):\n",
            " #   Column                Non-Null Count    Dtype  \n",
            "---  ------                --------------    -----  \n",
            " 0   id                    1200000 non-null  int64  \n",
            " 1   Age                   1181295 non-null  float64\n",
            " 2   Gender                1200000 non-null  object \n",
            " 3   Annual Income         1155051 non-null  float64\n",
            " 4   Marital Status        1181471 non-null  object \n",
            " 5   Number of Dependents  1090328 non-null  float64\n",
            " 6   Education Level       1200000 non-null  object \n",
            " 7   Occupation            841925 non-null   object \n",
            " 8   Health Score          1125924 non-null  float64\n",
            " 9   Location              1200000 non-null  object \n",
            " 10  Policy Type           1200000 non-null  object \n",
            " 11  Previous Claims       835971 non-null   float64\n",
            " 12  Vehicle Age           1199994 non-null  float64\n",
            " 13  Credit Score          1062118 non-null  float64\n",
            " 14  Insurance Duration    1199999 non-null  float64\n",
            " 15  Policy Start Date     1200000 non-null  object \n",
            " 16  Customer Feedback     1122176 non-null  object \n",
            " 17  Smoking Status        1200000 non-null  object \n",
            " 18  Exercise Frequency    1200000 non-null  object \n",
            " 19  Property Type         1200000 non-null  object \n",
            " 20  Premium Amount        1200000 non-null  float64\n",
            "dtypes: float64(9), int64(1), object(11)\n",
            "memory usage: 192.3+ MB\n"
          ]
        }
      ]
    },
    {
      "cell_type": "code",
      "source": [
        "train.sample()"
      ],
      "metadata": {
        "colab": {
          "base_uri": "https://localhost:8080/",
          "height": 164
        },
        "id": "2OPlhNbaYX0_",
        "outputId": "9c297a0f-0946-4349-eabe-f36763943f65"
      },
      "execution_count": 146,
      "outputs": [
        {
          "output_type": "execute_result",
          "data": {
            "text/plain": [
              "          id   Age  Gender  Annual Income Marital Status  \\\n",
              "84800  84800  25.0  Female         1223.0       Divorced   \n",
              "\n",
              "       Number of Dependents Education Level  Occupation  Health Score  \\\n",
              "84800                   2.0      Bachelor's  Unemployed      9.371225   \n",
              "\n",
              "      Location  ... Previous Claims  Vehicle Age  Credit Score  \\\n",
              "84800    Rural  ...             2.0          7.0         786.0   \n",
              "\n",
              "       Insurance Duration           Policy Start Date Customer Feedback  \\\n",
              "84800                 7.0  2022-12-06 15:21:39.219432              Good   \n",
              "\n",
              "      Smoking Status Exercise Frequency Property Type Premium Amount  \n",
              "84800            Yes             Weekly     Apartment          811.0  \n",
              "\n",
              "[1 rows x 21 columns]"
            ],
            "text/html": [
              "\n",
              "  <div id=\"df-b514b448-16ee-4db0-9f1f-129f69c5f0c9\" class=\"colab-df-container\">\n",
              "    <div>\n",
              "<style scoped>\n",
              "    .dataframe tbody tr th:only-of-type {\n",
              "        vertical-align: middle;\n",
              "    }\n",
              "\n",
              "    .dataframe tbody tr th {\n",
              "        vertical-align: top;\n",
              "    }\n",
              "\n",
              "    .dataframe thead th {\n",
              "        text-align: right;\n",
              "    }\n",
              "</style>\n",
              "<table border=\"1\" class=\"dataframe\">\n",
              "  <thead>\n",
              "    <tr style=\"text-align: right;\">\n",
              "      <th></th>\n",
              "      <th>id</th>\n",
              "      <th>Age</th>\n",
              "      <th>Gender</th>\n",
              "      <th>Annual Income</th>\n",
              "      <th>Marital Status</th>\n",
              "      <th>Number of Dependents</th>\n",
              "      <th>Education Level</th>\n",
              "      <th>Occupation</th>\n",
              "      <th>Health Score</th>\n",
              "      <th>Location</th>\n",
              "      <th>...</th>\n",
              "      <th>Previous Claims</th>\n",
              "      <th>Vehicle Age</th>\n",
              "      <th>Credit Score</th>\n",
              "      <th>Insurance Duration</th>\n",
              "      <th>Policy Start Date</th>\n",
              "      <th>Customer Feedback</th>\n",
              "      <th>Smoking Status</th>\n",
              "      <th>Exercise Frequency</th>\n",
              "      <th>Property Type</th>\n",
              "      <th>Premium Amount</th>\n",
              "    </tr>\n",
              "  </thead>\n",
              "  <tbody>\n",
              "    <tr>\n",
              "      <th>84800</th>\n",
              "      <td>84800</td>\n",
              "      <td>25.0</td>\n",
              "      <td>Female</td>\n",
              "      <td>1223.0</td>\n",
              "      <td>Divorced</td>\n",
              "      <td>2.0</td>\n",
              "      <td>Bachelor's</td>\n",
              "      <td>Unemployed</td>\n",
              "      <td>9.371225</td>\n",
              "      <td>Rural</td>\n",
              "      <td>...</td>\n",
              "      <td>2.0</td>\n",
              "      <td>7.0</td>\n",
              "      <td>786.0</td>\n",
              "      <td>7.0</td>\n",
              "      <td>2022-12-06 15:21:39.219432</td>\n",
              "      <td>Good</td>\n",
              "      <td>Yes</td>\n",
              "      <td>Weekly</td>\n",
              "      <td>Apartment</td>\n",
              "      <td>811.0</td>\n",
              "    </tr>\n",
              "  </tbody>\n",
              "</table>\n",
              "<p>1 rows × 21 columns</p>\n",
              "</div>\n",
              "    <div class=\"colab-df-buttons\">\n",
              "\n",
              "  <div class=\"colab-df-container\">\n",
              "    <button class=\"colab-df-convert\" onclick=\"convertToInteractive('df-b514b448-16ee-4db0-9f1f-129f69c5f0c9')\"\n",
              "            title=\"Convert this dataframe to an interactive table.\"\n",
              "            style=\"display:none;\">\n",
              "\n",
              "  <svg xmlns=\"http://www.w3.org/2000/svg\" height=\"24px\" viewBox=\"0 -960 960 960\">\n",
              "    <path d=\"M120-120v-720h720v720H120Zm60-500h600v-160H180v160Zm220 220h160v-160H400v160Zm0 220h160v-160H400v160ZM180-400h160v-160H180v160Zm440 0h160v-160H620v160ZM180-180h160v-160H180v160Zm440 0h160v-160H620v160Z\"/>\n",
              "  </svg>\n",
              "    </button>\n",
              "\n",
              "  <style>\n",
              "    .colab-df-container {\n",
              "      display:flex;\n",
              "      gap: 12px;\n",
              "    }\n",
              "\n",
              "    .colab-df-convert {\n",
              "      background-color: #E8F0FE;\n",
              "      border: none;\n",
              "      border-radius: 50%;\n",
              "      cursor: pointer;\n",
              "      display: none;\n",
              "      fill: #1967D2;\n",
              "      height: 32px;\n",
              "      padding: 0 0 0 0;\n",
              "      width: 32px;\n",
              "    }\n",
              "\n",
              "    .colab-df-convert:hover {\n",
              "      background-color: #E2EBFA;\n",
              "      box-shadow: 0px 1px 2px rgba(60, 64, 67, 0.3), 0px 1px 3px 1px rgba(60, 64, 67, 0.15);\n",
              "      fill: #174EA6;\n",
              "    }\n",
              "\n",
              "    .colab-df-buttons div {\n",
              "      margin-bottom: 4px;\n",
              "    }\n",
              "\n",
              "    [theme=dark] .colab-df-convert {\n",
              "      background-color: #3B4455;\n",
              "      fill: #D2E3FC;\n",
              "    }\n",
              "\n",
              "    [theme=dark] .colab-df-convert:hover {\n",
              "      background-color: #434B5C;\n",
              "      box-shadow: 0px 1px 3px 1px rgba(0, 0, 0, 0.15);\n",
              "      filter: drop-shadow(0px 1px 2px rgba(0, 0, 0, 0.3));\n",
              "      fill: #FFFFFF;\n",
              "    }\n",
              "  </style>\n",
              "\n",
              "    <script>\n",
              "      const buttonEl =\n",
              "        document.querySelector('#df-b514b448-16ee-4db0-9f1f-129f69c5f0c9 button.colab-df-convert');\n",
              "      buttonEl.style.display =\n",
              "        google.colab.kernel.accessAllowed ? 'block' : 'none';\n",
              "\n",
              "      async function convertToInteractive(key) {\n",
              "        const element = document.querySelector('#df-b514b448-16ee-4db0-9f1f-129f69c5f0c9');\n",
              "        const dataTable =\n",
              "          await google.colab.kernel.invokeFunction('convertToInteractive',\n",
              "                                                    [key], {});\n",
              "        if (!dataTable) return;\n",
              "\n",
              "        const docLinkHtml = 'Like what you see? Visit the ' +\n",
              "          '<a target=\"_blank\" href=https://colab.research.google.com/notebooks/data_table.ipynb>data table notebook</a>'\n",
              "          + ' to learn more about interactive tables.';\n",
              "        element.innerHTML = '';\n",
              "        dataTable['output_type'] = 'display_data';\n",
              "        await google.colab.output.renderOutput(dataTable, element);\n",
              "        const docLink = document.createElement('div');\n",
              "        docLink.innerHTML = docLinkHtml;\n",
              "        element.appendChild(docLink);\n",
              "      }\n",
              "    </script>\n",
              "  </div>\n",
              "\n",
              "\n",
              "    </div>\n",
              "  </div>\n"
            ],
            "application/vnd.google.colaboratory.intrinsic+json": {
              "type": "dataframe"
            }
          },
          "metadata": {},
          "execution_count": 146
        }
      ]
    },
    {
      "cell_type": "code",
      "source": [
        "#EXTRACT FEATURES\n",
        "\n",
        "train['Premium Amount'] = np.log1p(train['Premium Amount'])\n",
        "\n",
        "X, y = train.drop(['Customer Feedback', 'Policy Start Date', 'Premium Amount'], axis=1), train[['Premium Amount']]"
      ],
      "metadata": {
        "id": "gXZzIAyjYaOv"
      },
      "execution_count": 147,
      "outputs": []
    },
    {
      "cell_type": "code",
      "source": [
        "\n",
        "X_train, X_test, y_train, y_test = train_test_split(X, y, test_size=0.2, random_state=42)"
      ],
      "metadata": {
        "id": "EIKwdmHfYcXU"
      },
      "execution_count": 148,
      "outputs": []
    },
    {
      "cell_type": "code",
      "source": [
        "\n",
        "categorical_features = [col for col in X_train.select_dtypes(include=[\"object\"]).columns]\n",
        "numerical_features = [col for col in X_train.select_dtypes(include=[\"float64\", \"int64\"]).columns]"
      ],
      "metadata": {
        "id": "1K-P2wx8Yegd"
      },
      "execution_count": 149,
      "outputs": []
    },
    {
      "cell_type": "code",
      "source": [
        "preprocessor = ColumnTransformer(\n",
        "    transformers=[\n",
        "        (\"cat\", Pipeline([\n",
        "            ('imputer', SimpleImputer(strategy='most_frequent')),\n",
        "            ('onehot', OneHotEncoder(handle_unknown='ignore'))\n",
        "        ]), categorical_features),\n",
        "        (\"num\", Pipeline([\n",
        "            ('imputer', SimpleImputer(strategy='mean')), # Impute missing numerical values with the mean\n",
        "            ('scaler', StandardScaler())\n",
        "        ]), numerical_features),\n",
        "    ]\n",
        ")"
      ],
      "metadata": {
        "id": "UTP-LXdwYiZ-"
      },
      "execution_count": 150,
      "outputs": []
    },
    {
      "cell_type": "code",
      "source": [
        "# Create regression matrices\n",
        "# Convert 'object' columns to 'category' before creating DMatrix\n",
        "#for col in X_train.select_dtypes(include=['object']).columns:\n",
        "#    X_train[col] = X_train[col].astype('category')\n",
        "#    X_test[col] = X_test[col].astype('category')"
      ],
      "metadata": {
        "id": "iP17JgsUcMpA"
      },
      "execution_count": 153,
      "outputs": []
    },
    {
      "cell_type": "code",
      "source": [
        "#PREPROCESS\n",
        "X_train_encoded = preprocessor.fit_transform(X_train)\n",
        "X_test_encoded = preprocessor.transform(X_test)"
      ],
      "metadata": {
        "id": "9OktxocVhN8m"
      },
      "execution_count": 154,
      "outputs": []
    },
    {
      "cell_type": "code",
      "source": [
        "# PROCESSED DATA to DF for DMATRIX\n",
        "X_train_encoded = pd.DataFrame(X_train_encoded, columns=preprocessor.get_feature_names_out())\n",
        "X_test_encoded = pd.DataFrame(X_test_encoded, columns=preprocessor.get_feature_names_out())\n"
      ],
      "metadata": {
        "id": "Zrnhks1VhTzZ"
      },
      "execution_count": 155,
      "outputs": []
    },
    {
      "cell_type": "code",
      "source": [
        "#Dmatrix\n",
        "dtrain_reg = xgb.DMatrix(X_train_encoded, y_train, enable_categorical=True)\n",
        "dtest_reg = xgb.DMatrix(X_test_encoded, y_test, enable_categorical=True)"
      ],
      "metadata": {
        "id": "8L-FeN-UhWc6"
      },
      "execution_count": 156,
      "outputs": []
    },
    {
      "cell_type": "code",
      "source": [
        "# SET XGB PARAMETERS\n",
        "params = {\n",
        "    \"objective\": \"reg:squarederror\",\n",
        "    \"eval_metric\": \"rmse\",\n",
        "    \"learning_rate\": 0.01,\n",
        "    \"max_depth\": 6,\n",
        "    \"subsample\": 0.8,\n",
        "    \"colsample_bytree\": 0.8,\n",
        "    \"min_child_weight\": 3,\n",
        "    \"lambda\": 1.0,  # L2 regularization\n",
        "    \"alpha\": 0.5    # L1 regularization\n",
        "}"
      ],
      "metadata": {
        "id": "3qoM69VOhkHE"
      },
      "execution_count": 157,
      "outputs": []
    },
    {
      "cell_type": "code",
      "source": [
        "\n",
        "# TRAIN THE MODEL\n",
        "evals = [(dtrain_reg, \"train\"), (dtest_reg, \"valid\")]\n",
        "model = xgb.train(\n",
        "    params=params,\n",
        "    dtrain=dtrain_reg,\n",
        "    num_boost_round=200,\n",
        "    evals=evals,\n",
        "    early_stopping_rounds=50\n",
        ")"
      ],
      "metadata": {
        "colab": {
          "base_uri": "https://localhost:8080/"
        },
        "id": "xt_5IoOsYiWX",
        "outputId": "e17afb63-8a5f-424e-f6b0-2fe46371c09f"
      },
      "execution_count": 158,
      "outputs": [
        {
          "output_type": "stream",
          "name": "stdout",
          "text": [
            "[0]\ttrain-rmse:1.09497\tvalid-rmse:1.09572\n",
            "[1]\ttrain-rmse:1.09429\tvalid-rmse:1.09504\n",
            "[2]\ttrain-rmse:1.09397\tvalid-rmse:1.09472\n",
            "[3]\ttrain-rmse:1.09342\tvalid-rmse:1.09417\n",
            "[4]\ttrain-rmse:1.09288\tvalid-rmse:1.09364\n",
            "[5]\ttrain-rmse:1.09280\tvalid-rmse:1.09357\n",
            "[6]\ttrain-rmse:1.09279\tvalid-rmse:1.09356\n",
            "[7]\ttrain-rmse:1.09254\tvalid-rmse:1.09331\n",
            "[8]\ttrain-rmse:1.09245\tvalid-rmse:1.09323\n",
            "[9]\ttrain-rmse:1.09193\tvalid-rmse:1.09271\n",
            "[10]\ttrain-rmse:1.09142\tvalid-rmse:1.09220\n",
            "[11]\ttrain-rmse:1.09134\tvalid-rmse:1.09213\n",
            "[12]\ttrain-rmse:1.09084\tvalid-rmse:1.09163\n",
            "[13]\ttrain-rmse:1.09022\tvalid-rmse:1.09102\n",
            "[14]\ttrain-rmse:1.08962\tvalid-rmse:1.09043\n",
            "[15]\ttrain-rmse:1.08960\tvalid-rmse:1.09041\n",
            "[16]\ttrain-rmse:1.08901\tvalid-rmse:1.08983\n",
            "[17]\ttrain-rmse:1.08863\tvalid-rmse:1.08945\n",
            "[18]\ttrain-rmse:1.08836\tvalid-rmse:1.08918\n",
            "[19]\ttrain-rmse:1.08779\tvalid-rmse:1.08862\n",
            "[20]\ttrain-rmse:1.08724\tvalid-rmse:1.08807\n",
            "[21]\ttrain-rmse:1.08669\tvalid-rmse:1.08753\n",
            "[22]\ttrain-rmse:1.08649\tvalid-rmse:1.08733\n",
            "[23]\ttrain-rmse:1.08595\tvalid-rmse:1.08680\n",
            "[24]\ttrain-rmse:1.08542\tvalid-rmse:1.08627\n",
            "[25]\ttrain-rmse:1.08518\tvalid-rmse:1.08603\n",
            "[26]\ttrain-rmse:1.08466\tvalid-rmse:1.08553\n",
            "[27]\ttrain-rmse:1.08443\tvalid-rmse:1.08530\n",
            "[28]\ttrain-rmse:1.08393\tvalid-rmse:1.08481\n",
            "[29]\ttrain-rmse:1.08354\tvalid-rmse:1.08441\n",
            "[30]\ttrain-rmse:1.08335\tvalid-rmse:1.08423\n",
            "[31]\ttrain-rmse:1.08296\tvalid-rmse:1.08384\n",
            "[32]\ttrain-rmse:1.08275\tvalid-rmse:1.08362\n",
            "[33]\ttrain-rmse:1.08228\tvalid-rmse:1.08317\n",
            "[34]\ttrain-rmse:1.08208\tvalid-rmse:1.08296\n",
            "[35]\ttrain-rmse:1.08171\tvalid-rmse:1.08260\n",
            "[36]\ttrain-rmse:1.08155\tvalid-rmse:1.08245\n",
            "[37]\ttrain-rmse:1.08140\tvalid-rmse:1.08229\n",
            "[38]\ttrain-rmse:1.08095\tvalid-rmse:1.08185\n",
            "[39]\ttrain-rmse:1.08076\tvalid-rmse:1.08166\n",
            "[40]\ttrain-rmse:1.08042\tvalid-rmse:1.08132\n",
            "[41]\ttrain-rmse:1.07998\tvalid-rmse:1.08089\n",
            "[42]\ttrain-rmse:1.07980\tvalid-rmse:1.08071\n",
            "[43]\ttrain-rmse:1.07962\tvalid-rmse:1.08053\n",
            "[44]\ttrain-rmse:1.07955\tvalid-rmse:1.08047\n",
            "[45]\ttrain-rmse:1.07929\tvalid-rmse:1.08021\n",
            "[46]\ttrain-rmse:1.07896\tvalid-rmse:1.07989\n",
            "[47]\ttrain-rmse:1.07856\tvalid-rmse:1.07948\n",
            "[48]\ttrain-rmse:1.07816\tvalid-rmse:1.07910\n",
            "[49]\ttrain-rmse:1.07803\tvalid-rmse:1.07897\n",
            "[50]\ttrain-rmse:1.07797\tvalid-rmse:1.07891\n",
            "[51]\ttrain-rmse:1.07792\tvalid-rmse:1.07887\n",
            "[52]\ttrain-rmse:1.07788\tvalid-rmse:1.07883\n",
            "[53]\ttrain-rmse:1.07750\tvalid-rmse:1.07846\n",
            "[54]\ttrain-rmse:1.07744\tvalid-rmse:1.07840\n",
            "[55]\ttrain-rmse:1.07737\tvalid-rmse:1.07834\n",
            "[56]\ttrain-rmse:1.07700\tvalid-rmse:1.07798\n",
            "[57]\ttrain-rmse:1.07664\tvalid-rmse:1.07762\n",
            "[58]\ttrain-rmse:1.07636\tvalid-rmse:1.07734\n",
            "[59]\ttrain-rmse:1.07632\tvalid-rmse:1.07731\n",
            "[60]\ttrain-rmse:1.07620\tvalid-rmse:1.07720\n",
            "[61]\ttrain-rmse:1.07605\tvalid-rmse:1.07705\n",
            "[62]\ttrain-rmse:1.07599\tvalid-rmse:1.07699\n",
            "[63]\ttrain-rmse:1.07564\tvalid-rmse:1.07664\n",
            "[64]\ttrain-rmse:1.07536\tvalid-rmse:1.07636\n",
            "[65]\ttrain-rmse:1.07530\tvalid-rmse:1.07631\n",
            "[66]\ttrain-rmse:1.07497\tvalid-rmse:1.07599\n",
            "[67]\ttrain-rmse:1.07483\tvalid-rmse:1.07585\n",
            "[68]\ttrain-rmse:1.07450\tvalid-rmse:1.07553\n",
            "[69]\ttrain-rmse:1.07449\tvalid-rmse:1.07552\n",
            "[70]\ttrain-rmse:1.07444\tvalid-rmse:1.07547\n",
            "[71]\ttrain-rmse:1.07412\tvalid-rmse:1.07516\n",
            "[72]\ttrain-rmse:1.07399\tvalid-rmse:1.07503\n",
            "[73]\ttrain-rmse:1.07367\tvalid-rmse:1.07472\n",
            "[74]\ttrain-rmse:1.07364\tvalid-rmse:1.07469\n",
            "[75]\ttrain-rmse:1.07351\tvalid-rmse:1.07456\n",
            "[76]\ttrain-rmse:1.07321\tvalid-rmse:1.07426\n",
            "[77]\ttrain-rmse:1.07291\tvalid-rmse:1.07397\n",
            "[78]\ttrain-rmse:1.07261\tvalid-rmse:1.07368\n",
            "[79]\ttrain-rmse:1.07249\tvalid-rmse:1.07356\n",
            "[80]\ttrain-rmse:1.07225\tvalid-rmse:1.07333\n",
            "[81]\ttrain-rmse:1.07220\tvalid-rmse:1.07328\n",
            "[82]\ttrain-rmse:1.07192\tvalid-rmse:1.07301\n",
            "[83]\ttrain-rmse:1.07190\tvalid-rmse:1.07299\n",
            "[84]\ttrain-rmse:1.07168\tvalid-rmse:1.07277\n",
            "[85]\ttrain-rmse:1.07140\tvalid-rmse:1.07250\n",
            "[86]\ttrain-rmse:1.07131\tvalid-rmse:1.07241\n",
            "[87]\ttrain-rmse:1.07114\tvalid-rmse:1.07224\n",
            "[88]\ttrain-rmse:1.07092\tvalid-rmse:1.07203\n",
            "[89]\ttrain-rmse:1.07067\tvalid-rmse:1.07177\n",
            "[90]\ttrain-rmse:1.07062\tvalid-rmse:1.07173\n",
            "[91]\ttrain-rmse:1.07037\tvalid-rmse:1.07149\n",
            "[92]\ttrain-rmse:1.07027\tvalid-rmse:1.07139\n",
            "[93]\ttrain-rmse:1.07024\tvalid-rmse:1.07137\n",
            "[94]\ttrain-rmse:1.07014\tvalid-rmse:1.07127\n",
            "[95]\ttrain-rmse:1.07010\tvalid-rmse:1.07123\n",
            "[96]\ttrain-rmse:1.07007\tvalid-rmse:1.07121\n",
            "[97]\ttrain-rmse:1.06983\tvalid-rmse:1.07097\n",
            "[98]\ttrain-rmse:1.06978\tvalid-rmse:1.07093\n",
            "[99]\ttrain-rmse:1.06976\tvalid-rmse:1.07091\n",
            "[100]\ttrain-rmse:1.06972\tvalid-rmse:1.07087\n",
            "[101]\ttrain-rmse:1.06948\tvalid-rmse:1.07064\n",
            "[102]\ttrain-rmse:1.06924\tvalid-rmse:1.07041\n",
            "[103]\ttrain-rmse:1.06920\tvalid-rmse:1.07038\n",
            "[104]\ttrain-rmse:1.06898\tvalid-rmse:1.07016\n",
            "[105]\ttrain-rmse:1.06875\tvalid-rmse:1.06993\n",
            "[106]\ttrain-rmse:1.06857\tvalid-rmse:1.06975\n",
            "[107]\ttrain-rmse:1.06848\tvalid-rmse:1.06966\n",
            "[108]\ttrain-rmse:1.06839\tvalid-rmse:1.06957\n",
            "[109]\ttrain-rmse:1.06835\tvalid-rmse:1.06954\n",
            "[110]\ttrain-rmse:1.06813\tvalid-rmse:1.06933\n",
            "[111]\ttrain-rmse:1.06800\tvalid-rmse:1.06920\n",
            "[112]\ttrain-rmse:1.06780\tvalid-rmse:1.06900\n",
            "[113]\ttrain-rmse:1.06763\tvalid-rmse:1.06884\n",
            "[114]\ttrain-rmse:1.06755\tvalid-rmse:1.06876\n",
            "[115]\ttrain-rmse:1.06739\tvalid-rmse:1.06861\n",
            "[116]\ttrain-rmse:1.06719\tvalid-rmse:1.06841\n",
            "[117]\ttrain-rmse:1.06707\tvalid-rmse:1.06829\n",
            "[118]\ttrain-rmse:1.06688\tvalid-rmse:1.06811\n",
            "[119]\ttrain-rmse:1.06680\tvalid-rmse:1.06803\n",
            "[120]\ttrain-rmse:1.06662\tvalid-rmse:1.06785\n",
            "[121]\ttrain-rmse:1.06654\tvalid-rmse:1.06777\n",
            "[122]\ttrain-rmse:1.06651\tvalid-rmse:1.06775\n",
            "[123]\ttrain-rmse:1.06636\tvalid-rmse:1.06760\n",
            "[124]\ttrain-rmse:1.06621\tvalid-rmse:1.06746\n",
            "[125]\ttrain-rmse:1.06617\tvalid-rmse:1.06742\n",
            "[126]\ttrain-rmse:1.06599\tvalid-rmse:1.06724\n",
            "[127]\ttrain-rmse:1.06585\tvalid-rmse:1.06711\n",
            "[128]\ttrain-rmse:1.06571\tvalid-rmse:1.06697\n",
            "[129]\ttrain-rmse:1.06554\tvalid-rmse:1.06681\n",
            "[130]\ttrain-rmse:1.06551\tvalid-rmse:1.06678\n",
            "[131]\ttrain-rmse:1.06537\tvalid-rmse:1.06665\n",
            "[132]\ttrain-rmse:1.06532\tvalid-rmse:1.06660\n",
            "[133]\ttrain-rmse:1.06529\tvalid-rmse:1.06657\n",
            "[134]\ttrain-rmse:1.06512\tvalid-rmse:1.06641\n",
            "[135]\ttrain-rmse:1.06509\tvalid-rmse:1.06638\n",
            "[136]\ttrain-rmse:1.06497\tvalid-rmse:1.06626\n",
            "[137]\ttrain-rmse:1.06482\tvalid-rmse:1.06612\n",
            "[138]\ttrain-rmse:1.06479\tvalid-rmse:1.06610\n",
            "[139]\ttrain-rmse:1.06473\tvalid-rmse:1.06603\n",
            "[140]\ttrain-rmse:1.06457\tvalid-rmse:1.06589\n",
            "[141]\ttrain-rmse:1.06443\tvalid-rmse:1.06575\n",
            "[142]\ttrain-rmse:1.06428\tvalid-rmse:1.06560\n",
            "[143]\ttrain-rmse:1.06414\tvalid-rmse:1.06547\n",
            "[144]\ttrain-rmse:1.06399\tvalid-rmse:1.06533\n",
            "[145]\ttrain-rmse:1.06395\tvalid-rmse:1.06529\n",
            "[146]\ttrain-rmse:1.06393\tvalid-rmse:1.06527\n",
            "[147]\ttrain-rmse:1.06387\tvalid-rmse:1.06522\n",
            "[148]\ttrain-rmse:1.06376\tvalid-rmse:1.06511\n",
            "[149]\ttrain-rmse:1.06365\tvalid-rmse:1.06500\n",
            "[150]\ttrain-rmse:1.06359\tvalid-rmse:1.06495\n",
            "[151]\ttrain-rmse:1.06358\tvalid-rmse:1.06494\n",
            "[152]\ttrain-rmse:1.06344\tvalid-rmse:1.06480\n",
            "[153]\ttrain-rmse:1.06339\tvalid-rmse:1.06475\n",
            "[154]\ttrain-rmse:1.06326\tvalid-rmse:1.06463\n",
            "[155]\ttrain-rmse:1.06313\tvalid-rmse:1.06450\n",
            "[156]\ttrain-rmse:1.06300\tvalid-rmse:1.06439\n",
            "[157]\ttrain-rmse:1.06289\tvalid-rmse:1.06427\n",
            "[158]\ttrain-rmse:1.06284\tvalid-rmse:1.06423\n",
            "[159]\ttrain-rmse:1.06280\tvalid-rmse:1.06419\n",
            "[160]\ttrain-rmse:1.06268\tvalid-rmse:1.06407\n",
            "[161]\ttrain-rmse:1.06256\tvalid-rmse:1.06397\n",
            "[162]\ttrain-rmse:1.06255\tvalid-rmse:1.06396\n",
            "[163]\ttrain-rmse:1.06250\tvalid-rmse:1.06392\n",
            "[164]\ttrain-rmse:1.06249\tvalid-rmse:1.06391\n",
            "[165]\ttrain-rmse:1.06239\tvalid-rmse:1.06381\n",
            "[166]\ttrain-rmse:1.06229\tvalid-rmse:1.06372\n",
            "[167]\ttrain-rmse:1.06225\tvalid-rmse:1.06368\n",
            "[168]\ttrain-rmse:1.06221\tvalid-rmse:1.06364\n",
            "[169]\ttrain-rmse:1.06212\tvalid-rmse:1.06356\n",
            "[170]\ttrain-rmse:1.06203\tvalid-rmse:1.06348\n",
            "[171]\ttrain-rmse:1.06202\tvalid-rmse:1.06347\n",
            "[172]\ttrain-rmse:1.06191\tvalid-rmse:1.06336\n",
            "[173]\ttrain-rmse:1.06188\tvalid-rmse:1.06334\n",
            "[174]\ttrain-rmse:1.06186\tvalid-rmse:1.06332\n",
            "[175]\ttrain-rmse:1.06175\tvalid-rmse:1.06322\n",
            "[176]\ttrain-rmse:1.06166\tvalid-rmse:1.06312\n",
            "[177]\ttrain-rmse:1.06158\tvalid-rmse:1.06305\n",
            "[178]\ttrain-rmse:1.06148\tvalid-rmse:1.06296\n",
            "[179]\ttrain-rmse:1.06140\tvalid-rmse:1.06288\n",
            "[180]\ttrain-rmse:1.06139\tvalid-rmse:1.06287\n",
            "[181]\ttrain-rmse:1.06136\tvalid-rmse:1.06284\n",
            "[182]\ttrain-rmse:1.06134\tvalid-rmse:1.06283\n",
            "[183]\ttrain-rmse:1.06130\tvalid-rmse:1.06280\n",
            "[184]\ttrain-rmse:1.06123\tvalid-rmse:1.06273\n",
            "[185]\ttrain-rmse:1.06114\tvalid-rmse:1.06264\n",
            "[186]\ttrain-rmse:1.06113\tvalid-rmse:1.06263\n",
            "[187]\ttrain-rmse:1.06111\tvalid-rmse:1.06261\n",
            "[188]\ttrain-rmse:1.06101\tvalid-rmse:1.06252\n",
            "[189]\ttrain-rmse:1.06099\tvalid-rmse:1.06251\n",
            "[190]\ttrain-rmse:1.06091\tvalid-rmse:1.06243\n",
            "[191]\ttrain-rmse:1.06087\tvalid-rmse:1.06240\n",
            "[192]\ttrain-rmse:1.06085\tvalid-rmse:1.06238\n",
            "[193]\ttrain-rmse:1.06081\tvalid-rmse:1.06235\n",
            "[194]\ttrain-rmse:1.06072\tvalid-rmse:1.06226\n",
            "[195]\ttrain-rmse:1.06065\tvalid-rmse:1.06219\n",
            "[196]\ttrain-rmse:1.06063\tvalid-rmse:1.06217\n",
            "[197]\ttrain-rmse:1.06056\tvalid-rmse:1.06211\n",
            "[198]\ttrain-rmse:1.06055\tvalid-rmse:1.06210\n",
            "[199]\ttrain-rmse:1.06046\tvalid-rmse:1.06202\n"
          ]
        }
      ]
    },
    {
      "cell_type": "code",
      "source": [
        "original_test = pd.read_csv(\"test.csv\")"
      ],
      "metadata": {
        "id": "vapHG90Ow8JX"
      },
      "execution_count": 166,
      "outputs": []
    },
    {
      "cell_type": "code",
      "source": [
        "# DROP SAME COLUMNS\n",
        "original_test = original_test.drop(['Policy Start Date', 'Customer Feedback'], axis=1)\n",
        "print(f\"Test size after dropping columns: {original_test.shape}\")"
      ],
      "metadata": {
        "colab": {
          "base_uri": "https://localhost:8080/"
        },
        "id": "H-PqfRRikUv-",
        "outputId": "1cb3e5bb-47eb-4ab6-bc16-537080d98a3e"
      },
      "execution_count": 167,
      "outputs": [
        {
          "output_type": "stream",
          "name": "stdout",
          "text": [
            "Test size after dropping columns: (800000, 18)\n"
          ]
        }
      ]
    },
    {
      "cell_type": "markdown",
      "source": [],
      "metadata": {
        "id": "HmobYOoinuOG"
      }
    },
    {
      "cell_type": "code",
      "source": [
        "test_encoded = preprocessor.transform(original_test)\n",
        "test_encoded = pd.DataFrame(test_encoded, columns=preprocessor.get_feature_names_out())\n"
      ],
      "metadata": {
        "id": "iL7wEycFkYZG"
      },
      "execution_count": 168,
      "outputs": []
    },
    {
      "cell_type": "code",
      "source": [
        "#CHECK\n",
        "print(f\"Test size after preprocessing: {test_encoded.shape}\")"
      ],
      "metadata": {
        "colab": {
          "base_uri": "https://localhost:8080/"
        },
        "id": "Xjppbg66zPQc",
        "outputId": "8535de94-4e6f-4984-8c3d-08ba1fe1f43d"
      },
      "execution_count": 169,
      "outputs": [
        {
          "output_type": "stream",
          "name": "stdout",
          "text": [
            "Test size after preprocessing: (800000, 36)\n"
          ]
        }
      ]
    },
    {
      "cell_type": "code",
      "source": [
        "# CREATE DMATRIX FOR PREDICTION\n",
        "dtest_pred = xgb.DMatrix(test_encoded, enable_categorical=True, feature_names=list(test_encoded.columns))\n",
        "print(f\"DMatrix rows: {dtest_pred.num_row()}\")"
      ],
      "metadata": {
        "colab": {
          "base_uri": "https://localhost:8080/"
        },
        "id": "nbpaN3FCnR1E",
        "outputId": "1055df95-0fa0-4718-c794-3b1c1f0289d3"
      },
      "execution_count": 171,
      "outputs": [
        {
          "output_type": "stream",
          "name": "stdout",
          "text": [
            "DMatrix rows: 800000\n"
          ]
        }
      ]
    },
    {
      "cell_type": "code",
      "source": [
        "preds = model.predict(dtest_pred)\n"
      ],
      "metadata": {
        "id": "Ut7b8Y8MY_Zq"
      },
      "execution_count": 172,
      "outputs": []
    },
    {
      "cell_type": "code",
      "source": [
        "#REVERSE LOG TRANSFORMATION\n",
        "preds_original = np.expm1(preds)\n"
      ],
      "metadata": {
        "id": "MtchfHqfawlt"
      },
      "execution_count": 173,
      "outputs": []
    },
    {
      "cell_type": "code",
      "source": [
        "y_test_original = np.expm1(y_test)\n",
        "rmse = mean_squared_log_error(y_test_original, np.expm1(model.predict(dtest_reg)), squared=False)  # RMSLE\n",
        "print(f\"RMSLE of the model: {rmse:.4f}\")"
      ],
      "metadata": {
        "colab": {
          "base_uri": "https://localhost:8080/"
        },
        "id": "F_gKVzPYZKZH",
        "outputId": "b3547b83-9455-4ab1-a2c5-f8d1af98a393"
      },
      "execution_count": 174,
      "outputs": [
        {
          "output_type": "stream",
          "name": "stdout",
          "text": [
            "RMSLE of the model: 1.0620\n"
          ]
        }
      ]
    },
    {
      "cell_type": "code",
      "source": [
        "print(f\"Test size: {test_encoded.shape}\")"
      ],
      "metadata": {
        "colab": {
          "base_uri": "https://localhost:8080/"
        },
        "id": "iq48wNe82ejH",
        "outputId": "ef03530a-d54b-40ab-bf8d-7b8f7d00a305"
      },
      "execution_count": 175,
      "outputs": [
        {
          "output_type": "stream",
          "name": "stdout",
          "text": [
            "Test size: (800000, 36)\n"
          ]
        }
      ]
    },
    {
      "cell_type": "code",
      "source": [
        "# SAVE PREDICTIONS TO CSV\n",
        "submission_df = pd.DataFrame({\n",
        "    \"id\": original_test[\"id\"],\n",
        "    \"Premium Amount\": preds_original\n",
        "})\n",
        "submission_df.to_csv(\"submission_file.csv\", index=False)\n",
        "print(\"Submission file created: submission_file.csv\")"
      ],
      "metadata": {
        "colab": {
          "base_uri": "https://localhost:8080/"
        },
        "id": "ttULoFKdcvh4",
        "outputId": "4e9d6cf7-6515-4b63-d8ed-a24f3620747c"
      },
      "execution_count": 176,
      "outputs": [
        {
          "output_type": "stream",
          "name": "stdout",
          "text": [
            "Submission file created: submission_file.csv\n"
          ]
        }
      ]
    }
  ]
}